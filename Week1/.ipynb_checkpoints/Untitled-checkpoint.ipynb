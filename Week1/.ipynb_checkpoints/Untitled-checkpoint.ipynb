{
 "cells": [
  {
   "cell_type": "code",
   "execution_count": 17,
   "id": "dea68634-a1b5-46e3-a4fe-dc3ee0897053",
   "metadata": {},
   "outputs": [],
   "source": [
    "a = 30\n",
    "b = 20"
   ]
  },
  {
   "cell_type": "code",
   "execution_count": 19,
   "id": "0b97dd47-f67c-4804-832a-e5e2a481c1cd",
   "metadata": {},
   "outputs": [],
   "source": [
    "c = a + b"
   ]
  },
  {
   "cell_type": "code",
   "execution_count": 3,
   "id": "962546f2-4dc5-4ebb-9485-0273e9e50b2c",
   "metadata": {},
   "outputs": [
    {
     "data": {
      "text/plain": [
       "30"
      ]
     },
     "execution_count": 3,
     "metadata": {},
     "output_type": "execute_result"
    }
   ],
   "source": [
    "c"
   ]
  },
  {
   "cell_type": "code",
   "execution_count": 14,
   "id": "c63285fa-b3bf-4c22-b061-54347850fc3a",
   "metadata": {},
   "outputs": [],
   "source": [
    "d = \"AAAAAA\"\n",
    "# print(d)"
   ]
  },
  {
   "cell_type": "code",
   "execution_count": 15,
   "id": "b49f0e94-a66a-40b1-8047-1a011f23cf23",
   "metadata": {},
   "outputs": [
    {
     "name": "stdout",
     "output_type": "stream",
     "text": [
      "My name is  AAAAAA\n"
     ]
    }
   ],
   "source": [
    "print(\"My name is \", d)"
   ]
  },
  {
   "cell_type": "code",
   "execution_count": 20,
   "id": "4d282af6-f003-4d8a-830c-138ab256f4c7",
   "metadata": {},
   "outputs": [
    {
     "data": {
      "text/plain": [
       "50"
      ]
     },
     "execution_count": 20,
     "metadata": {},
     "output_type": "execute_result"
    }
   ],
   "source": [
    "c"
   ]
  },
  {
   "cell_type": "code",
   "execution_count": 21,
   "id": "daf5a67d-504c-44de-9183-5b1638ff91e2",
   "metadata": {},
   "outputs": [],
   "source": [
    "A = [0,1,2,3,4,5]"
   ]
  },
  {
   "cell_type": "code",
   "execution_count": 22,
   "id": "3fb6775f-1b40-4abb-aafd-45e84a647d7e",
   "metadata": {},
   "outputs": [
    {
     "data": {
      "text/plain": [
       "[0, 1, 2, 3, 4, 5]"
      ]
     },
     "execution_count": 22,
     "metadata": {},
     "output_type": "execute_result"
    }
   ],
   "source": [
    "A"
   ]
  },
  {
   "cell_type": "code",
   "execution_count": 25,
   "id": "78362d46-2e30-4da2-b8c0-16db22ee8f7d",
   "metadata": {},
   "outputs": [],
   "source": [
    "B = []\n",
    "for a in A:\n",
    "    B.append(a)"
   ]
  },
  {
   "cell_type": "code",
   "execution_count": 26,
   "id": "a4c5ca31-babc-495b-9d0e-ed7b2fe390e9",
   "metadata": {},
   "outputs": [
    {
     "data": {
      "text/plain": [
       "[0, 1, 2, 3, 4, 5]"
      ]
     },
     "execution_count": 26,
     "metadata": {},
     "output_type": "execute_result"
    }
   ],
   "source": [
    "B"
   ]
  },
  {
   "cell_type": "code",
   "execution_count": 28,
   "id": "5b04094a-298d-4bd3-b4c6-ef12ce13f03c",
   "metadata": {},
   "outputs": [
    {
     "data": {
      "text/plain": [
       "[0, 1, 2, 3, 4, 5]"
      ]
     },
     "execution_count": 28,
     "metadata": {},
     "output_type": "execute_result"
    }
   ],
   "source": [
    "C = A\n",
    "C"
   ]
  },
  {
   "cell_type": "code",
   "execution_count": 29,
   "id": "309f3df6-2e05-4843-9172-7d3c908c0ad5",
   "metadata": {},
   "outputs": [],
   "source": [
    "C = A + B"
   ]
  },
  {
   "cell_type": "code",
   "execution_count": 30,
   "id": "54b45f37-482d-4237-aa96-036ab2ed3b90",
   "metadata": {},
   "outputs": [
    {
     "data": {
      "text/plain": [
       "[0, 1, 2, 3, 4, 5, 0, 1, 2, 3, 4, 5]"
      ]
     },
     "execution_count": 30,
     "metadata": {},
     "output_type": "execute_result"
    }
   ],
   "source": [
    "C"
   ]
  },
  {
   "cell_type": "code",
   "execution_count": 31,
   "id": "38073baa-34e0-41ce-97e2-3c5fb285d02b",
   "metadata": {},
   "outputs": [
    {
     "data": {
      "text/plain": [
       "[0, 1, 2, 3, 4, 5]"
      ]
     },
     "execution_count": 31,
     "metadata": {},
     "output_type": "execute_result"
    }
   ],
   "source": [
    "A"
   ]
  },
  {
   "cell_type": "code",
   "execution_count": 32,
   "id": "4c88610f-df74-4c38-a015-033093333242",
   "metadata": {},
   "outputs": [
    {
     "data": {
      "text/plain": [
       "[0, 1, 2, 3, 4, 5]"
      ]
     },
     "execution_count": 32,
     "metadata": {},
     "output_type": "execute_result"
    }
   ],
   "source": [
    "B"
   ]
  },
  {
   "cell_type": "code",
   "execution_count": 33,
   "id": "05bcd608-b036-4fb2-9743-77aa3e28e9ea",
   "metadata": {},
   "outputs": [],
   "source": [
    "C = A + B"
   ]
  },
  {
   "cell_type": "code",
   "execution_count": 43,
   "id": "cdf41791-7658-4a86-b29c-f72ac3c853dc",
   "metadata": {},
   "outputs": [
    {
     "data": {
      "text/plain": [
       "[0, 1, 2, 3, 4, 5]"
      ]
     },
     "execution_count": 43,
     "metadata": {},
     "output_type": "execute_result"
    }
   ],
   "source": [
    "A"
   ]
  },
  {
   "cell_type": "code",
   "execution_count": 44,
   "id": "2ab627be-8bd2-47b7-a67c-88c1054ee095",
   "metadata": {},
   "outputs": [
    {
     "data": {
      "text/plain": [
       "[0, 1, 2, 3, 4, 5]"
      ]
     },
     "execution_count": 44,
     "metadata": {},
     "output_type": "execute_result"
    }
   ],
   "source": [
    "B"
   ]
  },
  {
   "cell_type": "raw",
   "id": "df8bc77e-5f22-476e-99df-f95dd4236ce5",
   "metadata": {},
   "source": [
    "for a in A:\n",
    "    for b in B:\n",
    "        print(a)\n",
    "        print(b)"
   ]
  },
  {
   "cell_type": "code",
   "execution_count": 48,
   "id": "efa0d085-d986-4f40-ba72-9cf265fba149",
   "metadata": {},
   "outputs": [],
   "source": [
    "a = 9.5656566"
   ]
  },
  {
   "cell_type": "code",
   "execution_count": 49,
   "id": "951db06a-ff05-471f-a223-f79e9841c95f",
   "metadata": {},
   "outputs": [
    {
     "data": {
      "text/plain": [
       "float"
      ]
     },
     "execution_count": 49,
     "metadata": {},
     "output_type": "execute_result"
    }
   ],
   "source": [
    "type(a)"
   ]
  },
  {
   "cell_type": "code",
   "execution_count": 50,
   "id": "e53135e0-2c6b-423d-8a25-e5661e46cce5",
   "metadata": {},
   "outputs": [],
   "source": [
    "c = 9"
   ]
  },
  {
   "cell_type": "code",
   "execution_count": 51,
   "id": "96190449-0c76-4602-bcbe-24cb05f30843",
   "metadata": {},
   "outputs": [
    {
     "data": {
      "text/plain": [
       "int"
      ]
     },
     "execution_count": 51,
     "metadata": {},
     "output_type": "execute_result"
    }
   ],
   "source": [
    "type(c)"
   ]
  },
  {
   "cell_type": "code",
   "execution_count": 52,
   "id": "e7be6b9b-f90f-4362-b44a-b4a292c742ff",
   "metadata": {},
   "outputs": [
    {
     "data": {
      "text/plain": [
       "float"
      ]
     },
     "execution_count": 52,
     "metadata": {},
     "output_type": "execute_result"
    }
   ],
   "source": [
    "d = a + b\n",
    "type(d)"
   ]
  },
  {
   "cell_type": "code",
   "execution_count": 58,
   "id": "857ad625-0ded-428b-b451-0a33e19e542c",
   "metadata": {},
   "outputs": [
    {
     "data": {
      "text/plain": [
       "4.5"
      ]
     },
     "execution_count": 58,
     "metadata": {},
     "output_type": "execute_result"
    }
   ],
   "source": [
    "9/2"
   ]
  },
  {
   "cell_type": "code",
   "execution_count": 56,
   "id": "717d4da8-1d12-4075-b987-2f3c8bc41d5b",
   "metadata": {},
   "outputs": [
    {
     "data": {
      "text/plain": [
       "int"
      ]
     },
     "execution_count": 56,
     "metadata": {},
     "output_type": "execute_result"
    }
   ],
   "source": [
    "type(5//2)"
   ]
  },
  {
   "cell_type": "code",
   "execution_count": 64,
   "id": "ff932b56-224c-4e4a-a5aa-698d670e2400",
   "metadata": {},
   "outputs": [
    {
     "data": {
      "text/plain": [
       "float"
      ]
     },
     "execution_count": 64,
     "metadata": {},
     "output_type": "execute_result"
    }
   ],
   "source": [
    "type(5.5 * 2)"
   ]
  },
  {
   "cell_type": "code",
   "execution_count": null,
   "id": "a866bcda-c412-4553-9023-fc5e3b2b2cd9",
   "metadata": {},
   "outputs": [],
   "source": []
  }
 ],
 "metadata": {
  "kernelspec": {
   "display_name": "pt-gpu",
   "language": "python",
   "name": "pt-gpu"
  },
  "language_info": {
   "codemirror_mode": {
    "name": "ipython",
    "version": 3
   },
   "file_extension": ".py",
   "mimetype": "text/x-python",
   "name": "python",
   "nbconvert_exporter": "python",
   "pygments_lexer": "ipython3",
   "version": "3.8.0"
  }
 },
 "nbformat": 4,
 "nbformat_minor": 5
}
