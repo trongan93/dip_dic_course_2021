{
 "cells": [
  {
   "cell_type": "code",
   "execution_count": 1,
   "id": "ad40c775-5e5a-4fa2-ae49-85215933fbf9",
   "metadata": {},
   "outputs": [
    {
     "name": "stdout",
     "output_type": "stream",
     "text": [
      "Original image\n",
      "[[ 75 200  30  70  46  45]\n",
      " [ 79  82   0 150  99 100]\n",
      " [ 62  30  12  13   0 145]\n",
      " [ 72  77 255  32   1 200]\n",
      " [ 45 200 186   0  16 150]\n",
      " [178  79  65 177 250   0]]\n",
      "Kernel\n",
      "[[1 0 0]\n",
      " [0 1 0]\n",
      " [0 0 1]]\n"
     ]
    }
   ],
   "source": [
    "import numpy as np\n",
    "kernel = np.array([[1, 0, 0], [0, 1, 0],[0,0,1]])\n",
    "\n",
    "image=np.array([[75,200,30,70,46,45], [79, 82, 0,150,99, 100],[62,30,12,13,0, 145],  [72,77,255,32,1, 200],[45,200,186,0,16, 150],[178,79,65,177,250, 0]])\n",
    "print('Original image')\n",
    "print(image)\n",
    "print('Kernel')\n",
    "print(kernel)"
   ]
  },
  {
   "cell_type": "code",
   "execution_count": 14,
   "id": "cc507f5d-2917-457f-b2fa-1415f7991ea7",
   "metadata": {},
   "outputs": [],
   "source": [
    "def myfilter2D(X, H):\n",
    "    # make sure both X and H are 2-D\n",
    "    assert( X.ndim == 2)\n",
    "    assert( H.ndim == 2)\n",
    "\n",
    "    # get the horizontal and vertical size of X and H\n",
    "    imageColumns = X.shape[1]\n",
    "    imageRows = X.shape[0]\n",
    "    kernelColumns = H.shape[1]\n",
    "    kernelRows = H.shape[0]\n",
    "\n",
    "    # calculate the horizontal and vertical size of Y (assume \"full\" convolution)\n",
    "    newRows = imageRows - kernelRows + 1\n",
    "    newColumns = imageColumns - kernelColumns + 1\n",
    "\n",
    "    # create an empty output array\n",
    "    Y = np.zeros((newRows,newColumns))\n",
    "\n",
    "    # go over output locations\n",
    "    for m in range(newRows):\n",
    "        for n in range(newColumns):\n",
    "            # go over input locations\n",
    "            for i in range(kernelRows):\n",
    "                for j in range(kernelColumns):\n",
    "#                     if (m-i >= 0) and (m-i < imageRows ) and (n-j >= 0) and (n-j < imageColumns):\n",
    "#                         print(m,n,i,j)\n",
    "                    Y[m,n] = Y[m,n] + H[i,j]*X[m+i,n+j]\n",
    "                                \n",
    "        # make sure kernel is within bounds\n",
    "        # calculate the convolution sum\n",
    "\n",
    "    return Y"
   ]
  },
  {
   "cell_type": "code",
   "execution_count": 15,
   "id": "374d5f34-30a8-435c-8349-52d95d2dd0f2",
   "metadata": {},
   "outputs": [
    {
     "name": "stdout",
     "output_type": "stream",
     "text": [
      "Output image\n",
      "[[169. 213. 180. 314.]\n",
      " [364. 126.  14. 350.]\n",
      " [325. 285.  60. 164.]\n",
      " [337. 440. 505.  48.]]\n"
     ]
    }
   ],
   "source": [
    "Y = myfilter2D(image,kernel)\n",
    "print('Output image')\n",
    "print(Y)"
   ]
  },
  {
   "cell_type": "code",
   "execution_count": 16,
   "id": "654ec307-1d3a-49dc-89c6-87e6bca8c0ed",
   "metadata": {},
   "outputs": [],
   "source": [
    "def convolution2d(image, kernel, stride, padding):\n",
    "    image = np.pad(image, [(padding, padding), (padding, padding)], mode='constant', constant_values=0)\n",
    "\n",
    "    kernel_height, kernel_width = kernel.shape\n",
    "    padded_height, padded_width = image.shape\n",
    "\n",
    "    output_height = (padded_height - kernel_height) // stride + 1\n",
    "    output_width = (padded_width - kernel_width) // stride + 1\n",
    "\n",
    "    new_image = np.zeros((output_height, output_width)).astype(np.float32)\n",
    "\n",
    "    for y in range(0, output_height):\n",
    "        for x in range(0, output_width):\n",
    "            new_image[y][x] = np.sum(image[y * stride:y * stride + kernel_height, x * stride:x * stride + kernel_width] * kernel).astype(np.float32)\n",
    "    return new_image"
   ]
  },
  {
   "cell_type": "code",
   "execution_count": 28,
   "id": "686716bc-f105-46fd-b57c-335fc37dd8b2",
   "metadata": {},
   "outputs": [],
   "source": [
    "Y2 = convolution2d(image,kernel,1,1)"
   ]
  },
  {
   "cell_type": "code",
   "execution_count": 29,
   "id": "dc675de4-3b14-4b39-9cfc-8929b787b417",
   "metadata": {},
   "outputs": [
    {
     "name": "stdout",
     "output_type": "stream",
     "text": [
      "Output image 2\n",
      "[[157. 200. 180. 169. 146.  45.]\n",
      " [109. 169. 213. 180. 314. 146.]\n",
      " [139. 364. 126.  14. 350. 244.]\n",
      " [272. 325. 285.  60. 164. 200.]\n",
      " [124. 337. 440. 505.  48. 151.]\n",
      " [178. 124. 265. 363. 250.  16.]]\n"
     ]
    }
   ],
   "source": [
    "print('Output image 2')\n",
    "print(Y2)"
   ]
  },
  {
   "cell_type": "code",
   "execution_count": 50,
   "id": "5dbecddc-cfb0-493b-8900-b9b7d13bef4e",
   "metadata": {},
   "outputs": [],
   "source": [
    "def convolve2d_2(image, kernel):\n",
    "    \"\"\"\n",
    "    This function which takes an image and a kernel and returns the convolution of them.\n",
    "\n",
    "    :param image: a numpy array of size [image_height, image_width].\n",
    "    :param kernel: a numpy array of size [kernel_height, kernel_width].\n",
    "    :return: a numpy array of size [image_height, image_width] (convolution output).\n",
    "    \"\"\"\n",
    "    # Flip the kernel\n",
    "    kernel = np.flipud(np.fliplr(kernel))\n",
    "    # convolution output\n",
    "    output = np.zeros_like(image)\n",
    "    print('image shape: ', image.shape)\n",
    "    print(image)\n",
    "    # Add zero padding to the input image\n",
    "    image_padded = np.zeros((image.shape[0] + 2, image.shape[1] + 2))\n",
    "    image_padded[1:-1, 1:-1] = image\n",
    "    print('image_padded shape: ', image_padded.shape)\n",
    "    print(image_padded)\n",
    "    # Loop over every pixel of the image\n",
    "    for x in range(image.shape[1]):\n",
    "        for y in range(image.shape[0]):\n",
    "#             element-wise multiplication of the kernel and the image\n",
    "            output[y, x]=(kernel * image_padded[y: y+3, x: x+3]).sum()\n",
    "#             print(y,x)\n",
    "#             print(kernel)\n",
    "#             print(image_padded[y: y+3, x: x+3])\n",
    "            \n",
    "#             break\n",
    "\n",
    "    return output"
   ]
  },
  {
   "cell_type": "code",
   "execution_count": 51,
   "id": "f150f299-63f3-4859-8375-3e9ce61cc083",
   "metadata": {},
   "outputs": [
    {
     "name": "stdout",
     "output_type": "stream",
     "text": [
      "image shape:  (6, 6)\n",
      "[[ 75 200  30  70  46  45]\n",
      " [ 79  82   0 150  99 100]\n",
      " [ 62  30  12  13   0 145]\n",
      " [ 72  77 255  32   1 200]\n",
      " [ 45 200 186   0  16 150]\n",
      " [178  79  65 177 250   0]]\n",
      "image_padded shape:  (8, 8)\n",
      "[[  0.   0.   0.   0.   0.   0.   0.   0.]\n",
      " [  0.  75. 200.  30.  70.  46.  45.   0.]\n",
      " [  0.  79.  82.   0. 150.  99. 100.   0.]\n",
      " [  0.  62.  30.  12.  13.   0. 145.   0.]\n",
      " [  0.  72.  77. 255.  32.   1. 200.   0.]\n",
      " [  0.  45. 200. 186.   0.  16. 150.   0.]\n",
      " [  0. 178.  79.  65. 177. 250.   0.   0.]\n",
      " [  0.   0.   0.   0.   0.   0.   0.   0.]]\n"
     ]
    }
   ],
   "source": [
    "image_sharpen = convolve2d_2(image, kernel=kernel)"
   ]
  },
  {
   "cell_type": "code",
   "execution_count": 47,
   "id": "658c45dd-900a-4545-b3d1-6ce313f8af8c",
   "metadata": {},
   "outputs": [
    {
     "name": "stdout",
     "output_type": "stream",
     "text": [
      "Output image 2\n",
      "[[157 200 180 169 146  45]\n",
      " [109 169 213 180 314 146]\n",
      " [139 364 126  14 350 244]\n",
      " [272 325 285  60 164 200]\n",
      " [124 337 440 505  48 151]\n",
      " [178 124 265 363 250  16]]\n"
     ]
    }
   ],
   "source": [
    "print('Output image 2')\n",
    "print(image_sharpen)"
   ]
  },
  {
   "cell_type": "code",
   "execution_count": 4,
   "id": "c1687e23-abf9-42ff-9238-0ca7719cee6d",
   "metadata": {},
   "outputs": [],
   "source": [
    "import scipy.signal"
   ]
  },
  {
   "cell_type": "code",
   "execution_count": 5,
   "id": "7cb14b1d-b852-4117-8f28-13ef525db43a",
   "metadata": {},
   "outputs": [
    {
     "name": "stdout",
     "output_type": "stream",
     "text": [
      "[[169 213 180 314]\n",
      " [364 126  14 350]\n",
      " [325 285  60 164]\n",
      " [337 440 505  48]]\n"
     ]
    }
   ],
   "source": [
    "res = scipy.signal.convolve2d(image, kernel, mode='valid', boundary='fill', fillvalue=0)\n",
    "print(res)"
   ]
  },
  {
   "cell_type": "code",
   "execution_count": 6,
   "id": "4d0229c8-93c8-4414-95cf-aa741f8b0e73",
   "metadata": {},
   "outputs": [
    {
     "name": "stdout",
     "output_type": "stream",
     "text": [
      "[[157 200 180 169 146  45]\n",
      " [109 169 213 180 314 146]\n",
      " [139 364 126  14 350 244]\n",
      " [272 325 285  60 164 200]\n",
      " [124 337 440 505  48 151]\n",
      " [178 124 265 363 250  16]]\n"
     ]
    }
   ],
   "source": [
    "res2 = scipy.signal.convolve2d(image, kernel, mode='same', boundary='fill', fillvalue=0)\n",
    "print(res2)"
   ]
  },
  {
   "cell_type": "code",
   "execution_count": null,
   "id": "9f21804a-393f-4298-9646-11da3898b6ef",
   "metadata": {},
   "outputs": [],
   "source": [
    "def convolve2d_2(image, kernel):\n",
    "    \"\"\"\n",
    "    This function which takes an image and a kernel and returns the convolution of them.\n",
    "\n",
    "    :param image: a numpy array of size [image_height, image_width].\n",
    "    :param kernel: a numpy array of size [kernel_height, kernel_width].\n",
    "    :return: a numpy array of size [image_height, image_width] (convolution output).\n",
    "    \"\"\"\n",
    "    # Flip the kernel\n",
    "    kernel = np.flipud(np.fliplr(kernel))\n",
    "    # convolution output\n",
    "    output = np.zeros_like(image)\n",
    "    print('image shape: ', image.shape)\n",
    "    print(image)\n",
    "    # Add zero padding to the input image\n",
    "    image_padded = np.zeros((image.shape[0] + 2, image.shape[1] + 2))\n",
    "    image_padded[1:-1, 1:-1] = image\n",
    "    print('image_padded shape: ', image_padded.shape)\n",
    "    print(image_padded)\n",
    "    # Loop over every pixel of the image\n",
    "    for x in range(image.shape[1]):\n",
    "        for y in range(image.shape[0]):\n",
    "            # element-wise multiplication of the kernel and the image\n",
    "#             output[y, x]=(kernel * image_padded[y: y+3, x: x+3]).sum()\n",
    "            print(y,x)\n",
    "            print(kernel)\n",
    "            print(image_padded[y: y+3, x: x+3])\n",
    "            \n",
    "            break\n",
    "\n",
    "    return output"
   ]
  },
  {
   "cell_type": "code",
   "execution_count": null,
   "id": "43df6d31-73d1-4584-aea1-cf1d6ca94083",
   "metadata": {},
   "outputs": [],
   "source": []
  }
 ],
 "metadata": {
  "kernelspec": {
   "display_name": "pt-gpu",
   "language": "python",
   "name": "pt-gpu"
  },
  "language_info": {
   "codemirror_mode": {
    "name": "ipython",
    "version": 3
   },
   "file_extension": ".py",
   "mimetype": "text/x-python",
   "name": "python",
   "nbconvert_exporter": "python",
   "pygments_lexer": "ipython3",
   "version": "3.8.0"
  }
 },
 "nbformat": 4,
 "nbformat_minor": 5
}
