{
 "cells": [
  {
   "cell_type": "markdown",
   "id": "eeb4dc81-95e6-495f-834d-3f0c94e0809e",
   "metadata": {},
   "source": [
    "## Convolution Implementation\n",
    "##### Trong-An Bui (trongan93@gmail.com)"
   ]
  },
  {
   "cell_type": "code",
   "execution_count": 1,
   "id": "d35fb817-126c-4a71-b9ae-991801749979",
   "metadata": {},
   "outputs": [],
   "source": [
    "import cv2 \n",
    "import numpy as np\n",
    "import matplotlib.pyplot as plt"
   ]
  },
  {
   "cell_type": "code",
   "execution_count": 2,
   "id": "d14408a7-d022-4e02-983d-219ef979652e",
   "metadata": {},
   "outputs": [],
   "source": [
    "def processImage(image): \n",
    "    image = cv2.imread(image) \n",
    "    image = cv2.cvtColor(src=image, code=cv2.COLOR_BGR2GRAY)\n",
    "    return image"
   ]
  },
  {
   "cell_type": "code",
   "execution_count": 3,
   "id": "414fe9c1-5010-48da-b530-0eafa108629e",
   "metadata": {},
   "outputs": [],
   "source": [
    "def convolve2D(image, kernel, padding=0, strides=1):\n",
    "    # Cross Correlation\n",
    "    kernel = np.flipud(np.fliplr(kernel))\n",
    "\n",
    "    # Gather Shapes of Kernel + Image + Padding\n",
    "    xKernShape = kernel.shape[0]\n",
    "    yKernShape = kernel.shape[1]\n",
    "    xImgShape = image.shape[0]\n",
    "    yImgShape = image.shape[1]\n",
    "\n",
    "    # Shape of Output Convolution\n",
    "    xOutput = int(((xImgShape - xKernShape + 2 * padding) / strides) + 1)\n",
    "    yOutput = int(((yImgShape - yKernShape + 2 * padding) / strides) + 1)\n",
    "    output = np.zeros((xOutput, yOutput))\n",
    "\n",
    "    # Apply Equal Padding to All Sides\n",
    "    if padding != 0:\n",
    "        imagePadded = np.zeros((image.shape[0] + padding*2, image.shape[1] + padding*2))\n",
    "        imagePadded[int(padding):int(-1 * padding), int(padding):int(-1 * padding)] = image\n",
    "        print(imagePadded)\n",
    "    else:\n",
    "        imagePadded = image\n",
    "\n",
    "    # Iterate through image\n",
    "    for y in range(image.shape[1]):\n",
    "        # Exit Convolution\n",
    "        if y > image.shape[1] - yKernShape:\n",
    "            break\n",
    "        # Only Convolve if y has gone down by the specified Strides\n",
    "        if y % strides == 0:\n",
    "            for x in range(image.shape[0]):\n",
    "                # Go to next row once kernel is out of bounds\n",
    "                if x > image.shape[0] - xKernShape:\n",
    "                    break\n",
    "                try:\n",
    "                    # Only Convolve if x has moved by the specified Strides\n",
    "                    if x % strides == 0:\n",
    "                        output[x, y] = (kernel * imagePadded[x: x + xKernShape, y: y + yKernShape]).sum()\n",
    "                except:\n",
    "                    break\n",
    "\n",
    "    return output"
   ]
  },
  {
   "cell_type": "raw",
   "id": "9d9efd7d-34fa-46d1-8b55-3d909e8e99a7",
   "metadata": {},
   "source": [
    "# Grayscale Image\n",
    "image = processImage('landslideimg1.jpg')\n",
    "\n",
    "# Edge Detection Kernel\n",
    "kernel = np.array([[-1, -1, -1], [-1, 8, -1], [-1, -1, -1]])\n",
    "\n",
    "# Convolve and Save Output\n",
    "output = convolve2D(image, kernel, padding=2)\n",
    "cv2.imwrite('2DConvolved.jpg', output)"
   ]
  },
  {
   "cell_type": "code",
   "execution_count": 25,
   "id": "699d8c92-780e-470e-8aed-bcc9cafe125d",
   "metadata": {},
   "outputs": [
    {
     "name": "stdout",
     "output_type": "stream",
     "text": [
      "Original image\n",
      "[[ 75 200  30  70  46  45]\n",
      " [ 79  82   0 150  99 100]\n",
      " [ 62  30  12  13   0 145]\n",
      " [ 72  77 255  32   1 200]\n",
      " [ 45 200 186   0  16 150]\n",
      " [178  79  65 177 250   0]]\n",
      "Kernel\n",
      "[[1 0 0]\n",
      " [0 1 0]\n",
      " [0 0 1]]\n"
     ]
    }
   ],
   "source": [
    "image=np.array([[75,200,30,70,46,45], [79, 82, 0,150,99, 100],[62,30,12,13,0, 145],  [72,77,255,32,1, 200],[45,200,186,0,16, 150],[178,79,65,177,250, 0]])\n",
    "print('Original image')\n",
    "print(image)\n",
    "# Edge Detection Kernel\n",
    "kernel = np.array([[1, 0, 0], [0, 1, 0], [0, 0, 1]])\n",
    "print('Kernel')\n",
    "print(kernel)"
   ]
  },
  {
   "cell_type": "code",
   "execution_count": 33,
   "id": "33632078-d108-4a70-87c8-6980ee750074",
   "metadata": {},
   "outputs": [],
   "source": [
    "output = convolve2D(image, kernel, padding=2, strides=1)"
   ]
  },
  {
   "cell_type": "code",
   "execution_count": 34,
   "id": "c79d52bb-1668-4de4-a9b0-387071fb78f0",
   "metadata": {},
   "outputs": [
    {
     "data": {
      "text/plain": [
       "array([[169., 213., 180., 314.],\n",
       "       [364., 126.,  14., 350.],\n",
       "       [325., 285.,  60., 164.],\n",
       "       [337., 440., 505.,  48.]])"
      ]
     },
     "execution_count": 34,
     "metadata": {},
     "output_type": "execute_result"
    }
   ],
   "source": [
    "output"
   ]
  },
  {
   "cell_type": "code",
   "execution_count": null,
   "id": "f6f8985a-b857-4f71-92d6-516e1db5da26",
   "metadata": {},
   "outputs": [],
   "source": []
  }
 ],
 "metadata": {
  "kernelspec": {
   "display_name": "pt-gpu",
   "language": "python",
   "name": "pt-gpu"
  },
  "language_info": {
   "codemirror_mode": {
    "name": "ipython",
    "version": 3
   },
   "file_extension": ".py",
   "mimetype": "text/x-python",
   "name": "python",
   "nbconvert_exporter": "python",
   "pygments_lexer": "ipython3",
   "version": "3.8.0"
  }
 },
 "nbformat": 4,
 "nbformat_minor": 5
}
